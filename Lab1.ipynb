import pandas as pd
import matplotlib.pyplot as plt
import seaborn as sns

# Ma'lumotni yuklash
data = pd.read_csv("input/cars.csv")

# Dastlabki 5 ta qatorni ko‘rish
display(data.head())
